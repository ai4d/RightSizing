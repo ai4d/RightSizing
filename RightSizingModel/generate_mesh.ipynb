{
 "cells": [
  {
   "cell_type": "code",
   "execution_count": 22,
   "metadata": {},
   "outputs": [],
   "source": [
    "import yaml\n",
    "import os.path as osp\n",
    "import os\n",
    "\n",
    "import numpy as np\n",
    "import matplotlib.pyplot as plt\n",
    "import igl\n",
    "from tqdm import tqdm\n",
    "\n",
    "import torch\n",
    "\n",
    "from preprocess import mesh_sampling_method\n",
    "from dataset import MeshData\n",
    "from models import VAE_coma, GraphPredictor"
   ]
  },
  {
   "cell_type": "code",
   "execution_count": 23,
   "metadata": {},
   "outputs": [
    {
     "name": "stdout",
     "output_type": "stream",
     "text": [
      "Normalizing the training and testing dataset...\n",
      "Normalization Done!\n"
     ]
    }
   ],
   "source": [
    "# read into the config file\n",
    "config_path = 'config/general_config.yaml'\n",
    "with open(config_path, 'r') as f:\n",
    "    config = yaml.load(f, Loader=yaml.FullLoader)\n",
    "\n",
    "# set the device, we can just assume we are using single GPU\n",
    "device = torch.device('cuda' if torch.cuda.is_available() else 'cpu')\n",
    "\n",
    "dataset = config[\"dataset\"]\n",
    "template = config[\"template\"]\n",
    "data_dir = osp.join('data', dataset)\n",
    "template_fp = osp.join('template', template)\n",
    "\n",
    "# get the up/down sampling matrix\n",
    "ds_factor = config[\"ds_factor\"]\n",
    "edge_index_list, down_transform_list, up_transform_list = mesh_sampling_method(data_fp=data_dir,\n",
    "                                                                                template_fp=template_fp,\n",
    "                                                                                ds_factors=ds_factor,\n",
    "                                                                                device=device)\n",
    "\n",
    "# create the model\n",
    "in_channels = config[\"model\"][\"in_channels\"]\n",
    "out_channels = config[\"model\"][\"out_channels\"]\n",
    "latent_channels = config[\"model\"][\"latent_channels\"]\n",
    "K = config[\"model\"][\"K\"]\n",
    "\n",
    "# get the mean and std of the CAESAR dataset(Traing set)\n",
    "CAESAR_meshdata = MeshData(root=data_dir, template_fp=template_fp)\n",
    "# of shape (10002, 3). is torch.Tensor\n",
    "caesar_mean = CAESAR_meshdata.mean\n",
    "caesar_std = CAESAR_meshdata.std"
   ]
  },
  {
   "cell_type": "markdown",
   "metadata": {},
   "source": [
    "## Load the predictor and the CoMA"
   ]
  },
  {
   "cell_type": "code",
   "execution_count": 24,
   "metadata": {},
   "outputs": [],
   "source": [
    "predictor = GraphPredictor(in_channels = in_channels, out_channels = out_channels,\n",
    "                        edge_index = edge_index_list, down_transform = down_transform_list, K=K).to(device)\n",
    "predictor.load_state_dict(torch.load(\"predictor_network/predictor.pth\"))\n",
    "\n",
    "height_mean = 1716.4373\n",
    "height_std = 107.98842\n",
    "\n",
    "arm_length_mean = 612.611\n",
    "arm_length_std = 45.986\n",
    "\n",
    "crotch_height_mean = 773.540\n",
    "crotch_height_std = 55.731\n",
    "\n",
    "chest_mean = 996.745\n",
    "chest_std = 124.099\n",
    "\n",
    "hip_mean = 1050.170\n",
    "hip_std = 113.026\n",
    "\n",
    "waist_mean = 848.005\n",
    "waist_std = 144.338"
   ]
  },
  {
   "cell_type": "code",
   "execution_count": 25,
   "metadata": {},
   "outputs": [
    {
     "data": {
      "text/plain": [
       "<All keys matched successfully>"
      ]
     },
     "execution_count": 25,
     "metadata": {},
     "output_type": "execute_result"
    }
   ],
   "source": [
    "model = VAE_coma(in_channels = in_channels,\n",
    "                out_channels = out_channels,\n",
    "                latent_channels = latent_channels,\n",
    "                edge_index = edge_index_list,\n",
    "                down_transform = down_transform_list,\n",
    "                up_transform = up_transform_list,\n",
    "                K=K).to(device)\n",
    "\n",
    "model.load_state_dict(torch.load(\"out/vae_coma/trainer6/20240117-190657/model.pth\"))\n",
    "# model.load_state_dict(torch.load(\"out/vae_coma/trainer12/20231220-123538/model.pth\"))"
   ]
  },
  {
   "cell_type": "markdown",
   "metadata": {},
   "source": [
    "## Define the decoder function"
   ]
  },
  {
   "cell_type": "code",
   "execution_count": 26,
   "metadata": {},
   "outputs": [],
   "source": [
    "def decode_func(x, model):\n",
    "    num_layers = len(model.de_layers)\n",
    "    num_deblocks = num_layers - 2\n",
    "    for i, layer in enumerate(model.de_layers):\n",
    "        if i == 0:\n",
    "            x = layer(x)\n",
    "            x = x.view(-1, model.num_vert, model.out_channels[-1])\n",
    "        elif i != num_layers - 1:\n",
    "            x = layer(x, model.edge_index[num_deblocks - i],\n",
    "                        model.up_transform[num_deblocks - i])\n",
    "        else:\n",
    "            # last layer\n",
    "            x = layer(x, model.edge_index[0])\n",
    "    return x "
   ]
  },
  {
   "cell_type": "markdown",
   "metadata": {},
   "source": [
    "## generate mesh samples"
   ]
  },
  {
   "cell_type": "code",
   "execution_count": 27,
   "metadata": {},
   "outputs": [],
   "source": [
    "# read into the template mesh\n",
    "v, f = igl.read_triangle_mesh(template_fp)\n",
    "\n",
    "\n",
    "def generate_a_mesh(model, latent_vector: np.ndarray, mean, std, fp, name):\n",
    "    mean = mean.to(device)\n",
    "    std = std.to(device)\n",
    "    \n",
    "    latent_vector = torch.Tensor(latent_vector).cuda()\n",
    "    latent_vector = latent_vector.reshape(1, -1)\n",
    "    \n",
    "    v = decode_func(latent_vector, model)\n",
    "    v = v.detach()\n",
    "    v = v * std + mean\n",
    "    v = v.cpu().numpy()\n",
    "    v = v.reshape(-1, 3)\n",
    "    \n",
    "    # find the lowest vertex\n",
    "    z_min = v[:, 2].min()\n",
    "    # move the lowest vertex to the origin\n",
    "    v[:, 2] = v[:, 2] - z_min\n",
    "        \n",
    "    if not osp.exists(fp):\n",
    "        os.makedirs(fp)\n",
    "    \n",
    "    igl.write_triangle_mesh(osp.join(fp, name), v, f)"
   ]
  },
  {
   "cell_type": "code",
   "execution_count": 28,
   "metadata": {},
   "outputs": [],
   "source": [
    "latent_vector = np.zeros(8)\n",
    "\n",
    "# create a numpy array from [-4.5, 4.5] with 0.5 interval\n",
    "values = np.arange(-4.5, 7.5, 1.5)\n",
    "\n",
    "for i in range(len(values)):\n",
    "    latent_vector[1] = values[i]\n",
    "    generate_a_mesh(model, latent_vector, caesar_mean, caesar_std, \"result/meshes/teaser2\", \"{:.1f}.obj\".format(values[i]))"
   ]
  }
 ],
 "metadata": {
  "kernelspec": {
   "display_name": "body_coma",
   "language": "python",
   "name": "python3"
  },
  "language_info": {
   "codemirror_mode": {
    "name": "ipython",
    "version": 3
   },
   "file_extension": ".py",
   "mimetype": "text/x-python",
   "name": "python",
   "nbconvert_exporter": "python",
   "pygments_lexer": "ipython3",
   "version": "3.8.16"
  },
  "orig_nbformat": 4
 },
 "nbformat": 4,
 "nbformat_minor": 2
}
